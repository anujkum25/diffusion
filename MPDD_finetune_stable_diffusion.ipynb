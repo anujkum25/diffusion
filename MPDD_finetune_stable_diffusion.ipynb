{
  "cells": [
    {
      "cell_type": "markdown",
      "metadata": {
        "id": "view-in-github",
        "colab_type": "text"
      },
      "source": [
        "<a href=\"https://colab.research.google.com/github/anujkum25/diffusion/blob/main/MPDD_finetune_stable_diffusion.ipynb\" target=\"_parent\"><img src=\"https://colab.research.google.com/assets/colab-badge.svg\" alt=\"Open In Colab\"/></a>"
      ]
    },
    {
      "cell_type": "code",
      "source": [
        "from google.colab import drive\n",
        "drive.mount('/content/drive')"
      ],
      "metadata": {
        "colab": {
          "base_uri": "https://localhost:8080/"
        },
        "id": "ZGOIs1fKEqPH",
        "outputId": "9ba5af9b-1894-48a5-e431-fee0d535ff98"
      },
      "execution_count": null,
      "outputs": [
        {
          "output_type": "stream",
          "name": "stdout",
          "text": [
            "Mounted at /content/drive\n"
          ]
        }
      ]
    },
    {
      "cell_type": "code",
      "execution_count": null,
      "metadata": {
        "id": "H0AdTEygtdVf",
        "colab": {
          "base_uri": "https://localhost:8080/"
        },
        "outputId": "ecedf721-c80a-4c27-b563-be72a33fb54e"
      },
      "outputs": [
        {
          "output_type": "stream",
          "name": "stdout",
          "text": [
            "\u001b[2K   \u001b[90m━━━━━━━━━━━━━━━━━━━━━━━━━━━━━━━━━━━━━━━━\u001b[0m \u001b[32m756.3/756.3 kB\u001b[0m \u001b[31m9.5 MB/s\u001b[0m eta \u001b[36m0:00:00\u001b[0m\n",
            "\u001b[2K     \u001b[90m━━━━━━━━━━━━━━━━━━━━━━━━━━━━━━━━━━━━━━━━\u001b[0m \u001b[32m61.0/61.0 kB\u001b[0m \u001b[31m2.3 MB/s\u001b[0m eta \u001b[36m0:00:00\u001b[0m\n",
            "\u001b[2K   \u001b[90m━━━━━━━━━━━━━━━━━━━━━━━━━━━━━━━━━━━━━━━━\u001b[0m \u001b[32m475.3/475.3 MB\u001b[0m \u001b[31m2.0 MB/s\u001b[0m eta \u001b[36m0:00:00\u001b[0m\n",
            "\u001b[2K   \u001b[90m━━━━━━━━━━━━━━━━━━━━━━━━━━━━━━━━━━━━━━━━\u001b[0m \u001b[32m1.7/1.7 MB\u001b[0m \u001b[31m80.1 MB/s\u001b[0m eta \u001b[36m0:00:00\u001b[0m\n",
            "\u001b[2K   \u001b[90m━━━━━━━━━━━━━━━━━━━━━━━━━━━━━━━━━━━━━━━━\u001b[0m \u001b[32m1.0/1.0 MB\u001b[0m \u001b[31m57.1 MB/s\u001b[0m eta \u001b[36m0:00:00\u001b[0m\n",
            "\u001b[2K   \u001b[90m━━━━━━━━━━━━━━━━━━━━━━━━━━━━━━━━━━━━━━━━\u001b[0m \u001b[32m18.3/18.3 MB\u001b[0m \u001b[31m111.4 MB/s\u001b[0m eta \u001b[36m0:00:00\u001b[0m\n",
            "\u001b[2K   \u001b[90m━━━━━━━━━━━━━━━━━━━━━━━━━━━━━━━━━━━━━━━━\u001b[0m \u001b[32m294.6/294.6 kB\u001b[0m \u001b[31m23.9 MB/s\u001b[0m eta \u001b[36m0:00:00\u001b[0m\n",
            "\u001b[2K   \u001b[90m━━━━━━━━━━━━━━━━━━━━━━━━━━━━━━━━━━━━━━━━\u001b[0m \u001b[32m5.5/5.5 MB\u001b[0m \u001b[31m115.0 MB/s\u001b[0m eta \u001b[36m0:00:00\u001b[0m\n",
            "\u001b[2K   \u001b[90m━━━━━━━━━━━━━━━━━━━━━━━━━━━━━━━━━━━━━━━━\u001b[0m \u001b[32m442.0/442.0 kB\u001b[0m \u001b[31m29.2 MB/s\u001b[0m eta \u001b[36m0:00:00\u001b[0m\n",
            "\u001b[2K   \u001b[90m━━━━━━━━━━━━━━━━━━━━━━━━━━━━━━━━━━━━━━━━\u001b[0m \u001b[32m78.4/78.4 kB\u001b[0m \u001b[31m6.6 MB/s\u001b[0m eta \u001b[36m0:00:00\u001b[0m\n",
            "\u001b[?25h\u001b[31mERROR: pip's dependency resolver does not currently take into account all the packages that are installed. This behaviour is the source of the following dependency conflicts.\n",
            "tensorstore 0.1.73 requires ml_dtypes>=0.3.1, but you have ml-dtypes 0.2.0 which is incompatible.\n",
            "grpcio-status 1.71.0 requires protobuf<6.0dev,>=5.26.1, but you have protobuf 4.25.7 which is incompatible.\n",
            "thinc 8.3.6 requires numpy<3.0.0,>=2.0.0, but you have numpy 1.26.4 which is incompatible.\n",
            "ydf 0.11.0 requires protobuf<6.0.0,>=5.29.1, but you have protobuf 4.25.7 which is incompatible.\n",
            "tensorflow-text 2.18.1 requires tensorflow<2.19,>=2.18.0, but you have tensorflow 2.15.0 which is incompatible.\n",
            "tensorflow-decision-forests 1.11.0 requires tensorflow==2.18.0, but you have tensorflow 2.15.0 which is incompatible.\n",
            "tf-keras 2.18.0 requires tensorflow<2.19,>=2.18, but you have tensorflow 2.15.0 which is incompatible.\n",
            "jax 0.5.2 requires ml_dtypes>=0.4.0, but you have ml-dtypes 0.2.0 which is incompatible.\u001b[0m\u001b[31m\n",
            "\u001b[2K   \u001b[90m━━━━━━━━━━━━━━━━━━━━━━━━━━━━━━━━━━━━━━━━\u001b[0m \u001b[32m950.8/950.8 kB\u001b[0m \u001b[31m11.1 MB/s\u001b[0m eta \u001b[36m0:00:00\u001b[0m\n",
            "\u001b[2K   \u001b[90m━━━━━━━━━━━━━━━━━━━━━━━━━━━━━━━━━━━━━━━━\u001b[0m \u001b[32m5.1/5.1 MB\u001b[0m \u001b[31m43.1 MB/s\u001b[0m eta \u001b[36m0:00:00\u001b[0m\n",
            "\u001b[?25h"
          ]
        }
      ],
      "source": [
        "!pip install keras-cv==0.6.0 -q\n",
        "!pip install -U tensorflow==2.15.0 -q\n",
        "!pip install keras-core==0.1.7 -q\n",
        "!pip install keras==2.15.0 -q\n",
        "!pip install tensorflow_datasets==4.9.6 -q"
      ]
    },
    {
      "cell_type": "code",
      "execution_count": null,
      "metadata": {
        "id": "h9J3Ao-wtdVj",
        "colab": {
          "base_uri": "https://localhost:8080/"
        },
        "outputId": "cfd4ca60-9a74-4e40-d554-2bebea29f265"
      },
      "outputs": [
        {
          "output_type": "stream",
          "name": "stdout",
          "text": [
            "Using TensorFlow backend\n"
          ]
        }
      ],
      "source": [
        "from textwrap import wrap\n",
        "import os\n",
        "\n",
        "import keras_cv\n",
        "import matplotlib.pyplot as plt\n",
        "import numpy as np\n",
        "import pandas as pd\n",
        "import tensorflow as tf\n",
        "import tensorflow.experimental.numpy as tnp\n",
        "from keras_cv.models.stable_diffusion.clip_tokenizer import SimpleTokenizer\n",
        "from keras_cv.models.stable_diffusion.diffusion_model import DiffusionModel\n",
        "from keras_cv.models.stable_diffusion.image_encoder import ImageEncoder\n",
        "from keras_cv.models.stable_diffusion.noise_scheduler import NoiseScheduler\n",
        "from keras_cv.models.stable_diffusion.text_encoder import TextEncoder\n",
        "from tensorflow import keras"
      ]
    },
    {
      "cell_type": "code",
      "execution_count": null,
      "metadata": {
        "id": "uRHJ56-ztdVl",
        "colab": {
          "base_uri": "https://localhost:8080/",
          "height": 224
        },
        "outputId": "1fb6c512-73f9-4f0d-f641-cf0ced48ebc3"
      },
      "outputs": [
        {
          "output_type": "stream",
          "name": "stdout",
          "text": [
            "(458, 2)\n"
          ]
        },
        {
          "output_type": "execute_result",
          "data": {
            "text/plain": [
              "                                                path               caption\n",
              "0  /content/drive/MyDrive/MPDD/MPDD_classificatio...  A good black bracket\n",
              "1  /content/drive/MyDrive/MPDD/MPDD_classificatio...  A good black bracket\n",
              "2  /content/drive/MyDrive/MPDD/MPDD_classificatio...  A good black bracket\n",
              "3  /content/drive/MyDrive/MPDD/MPDD_classificatio...  A good black bracket\n",
              "4  /content/drive/MyDrive/MPDD/MPDD_classificatio...  A good black bracket"
            ],
            "text/html": [
              "\n",
              "  <div id=\"df-a2f4572c-aca2-45b8-9a82-c2caf454821c\" class=\"colab-df-container\">\n",
              "    <div>\n",
              "<style scoped>\n",
              "    .dataframe tbody tr th:only-of-type {\n",
              "        vertical-align: middle;\n",
              "    }\n",
              "\n",
              "    .dataframe tbody tr th {\n",
              "        vertical-align: top;\n",
              "    }\n",
              "\n",
              "    .dataframe thead th {\n",
              "        text-align: right;\n",
              "    }\n",
              "</style>\n",
              "<table border=\"1\" class=\"dataframe\">\n",
              "  <thead>\n",
              "    <tr style=\"text-align: right;\">\n",
              "      <th></th>\n",
              "      <th>path</th>\n",
              "      <th>caption</th>\n",
              "    </tr>\n",
              "  </thead>\n",
              "  <tbody>\n",
              "    <tr>\n",
              "      <th>0</th>\n",
              "      <td>/content/drive/MyDrive/MPDD/MPDD_classificatio...</td>\n",
              "      <td>A good black bracket</td>\n",
              "    </tr>\n",
              "    <tr>\n",
              "      <th>1</th>\n",
              "      <td>/content/drive/MyDrive/MPDD/MPDD_classificatio...</td>\n",
              "      <td>A good black bracket</td>\n",
              "    </tr>\n",
              "    <tr>\n",
              "      <th>2</th>\n",
              "      <td>/content/drive/MyDrive/MPDD/MPDD_classificatio...</td>\n",
              "      <td>A good black bracket</td>\n",
              "    </tr>\n",
              "    <tr>\n",
              "      <th>3</th>\n",
              "      <td>/content/drive/MyDrive/MPDD/MPDD_classificatio...</td>\n",
              "      <td>A good black bracket</td>\n",
              "    </tr>\n",
              "    <tr>\n",
              "      <th>4</th>\n",
              "      <td>/content/drive/MyDrive/MPDD/MPDD_classificatio...</td>\n",
              "      <td>A good black bracket</td>\n",
              "    </tr>\n",
              "  </tbody>\n",
              "</table>\n",
              "</div>\n",
              "    <div class=\"colab-df-buttons\">\n",
              "\n",
              "  <div class=\"colab-df-container\">\n",
              "    <button class=\"colab-df-convert\" onclick=\"convertToInteractive('df-a2f4572c-aca2-45b8-9a82-c2caf454821c')\"\n",
              "            title=\"Convert this dataframe to an interactive table.\"\n",
              "            style=\"display:none;\">\n",
              "\n",
              "  <svg xmlns=\"http://www.w3.org/2000/svg\" height=\"24px\" viewBox=\"0 -960 960 960\">\n",
              "    <path d=\"M120-120v-720h720v720H120Zm60-500h600v-160H180v160Zm220 220h160v-160H400v160Zm0 220h160v-160H400v160ZM180-400h160v-160H180v160Zm440 0h160v-160H620v160ZM180-180h160v-160H180v160Zm440 0h160v-160H620v160Z\"/>\n",
              "  </svg>\n",
              "    </button>\n",
              "\n",
              "  <style>\n",
              "    .colab-df-container {\n",
              "      display:flex;\n",
              "      gap: 12px;\n",
              "    }\n",
              "\n",
              "    .colab-df-convert {\n",
              "      background-color: #E8F0FE;\n",
              "      border: none;\n",
              "      border-radius: 50%;\n",
              "      cursor: pointer;\n",
              "      display: none;\n",
              "      fill: #1967D2;\n",
              "      height: 32px;\n",
              "      padding: 0 0 0 0;\n",
              "      width: 32px;\n",
              "    }\n",
              "\n",
              "    .colab-df-convert:hover {\n",
              "      background-color: #E2EBFA;\n",
              "      box-shadow: 0px 1px 2px rgba(60, 64, 67, 0.3), 0px 1px 3px 1px rgba(60, 64, 67, 0.15);\n",
              "      fill: #174EA6;\n",
              "    }\n",
              "\n",
              "    .colab-df-buttons div {\n",
              "      margin-bottom: 4px;\n",
              "    }\n",
              "\n",
              "    [theme=dark] .colab-df-convert {\n",
              "      background-color: #3B4455;\n",
              "      fill: #D2E3FC;\n",
              "    }\n",
              "\n",
              "    [theme=dark] .colab-df-convert:hover {\n",
              "      background-color: #434B5C;\n",
              "      box-shadow: 0px 1px 3px 1px rgba(0, 0, 0, 0.15);\n",
              "      filter: drop-shadow(0px 1px 2px rgba(0, 0, 0, 0.3));\n",
              "      fill: #FFFFFF;\n",
              "    }\n",
              "  </style>\n",
              "\n",
              "    <script>\n",
              "      const buttonEl =\n",
              "        document.querySelector('#df-a2f4572c-aca2-45b8-9a82-c2caf454821c button.colab-df-convert');\n",
              "      buttonEl.style.display =\n",
              "        google.colab.kernel.accessAllowed ? 'block' : 'none';\n",
              "\n",
              "      async function convertToInteractive(key) {\n",
              "        const element = document.querySelector('#df-a2f4572c-aca2-45b8-9a82-c2caf454821c');\n",
              "        const dataTable =\n",
              "          await google.colab.kernel.invokeFunction('convertToInteractive',\n",
              "                                                    [key], {});\n",
              "        if (!dataTable) return;\n",
              "\n",
              "        const docLinkHtml = 'Like what you see? Visit the ' +\n",
              "          '<a target=\"_blank\" href=https://colab.research.google.com/notebooks/data_table.ipynb>data table notebook</a>'\n",
              "          + ' to learn more about interactive tables.';\n",
              "        element.innerHTML = '';\n",
              "        dataTable['output_type'] = 'display_data';\n",
              "        await google.colab.output.renderOutput(dataTable, element);\n",
              "        const docLink = document.createElement('div');\n",
              "        docLink.innerHTML = docLinkHtml;\n",
              "        element.appendChild(docLink);\n",
              "      }\n",
              "    </script>\n",
              "  </div>\n",
              "\n",
              "\n",
              "    <div id=\"df-aee1e6e9-5c03-4d69-9bdd-e9e8931652d6\">\n",
              "      <button class=\"colab-df-quickchart\" onclick=\"quickchart('df-aee1e6e9-5c03-4d69-9bdd-e9e8931652d6')\"\n",
              "                title=\"Suggest charts\"\n",
              "                style=\"display:none;\">\n",
              "\n",
              "<svg xmlns=\"http://www.w3.org/2000/svg\" height=\"24px\"viewBox=\"0 0 24 24\"\n",
              "     width=\"24px\">\n",
              "    <g>\n",
              "        <path d=\"M19 3H5c-1.1 0-2 .9-2 2v14c0 1.1.9 2 2 2h14c1.1 0 2-.9 2-2V5c0-1.1-.9-2-2-2zM9 17H7v-7h2v7zm4 0h-2V7h2v10zm4 0h-2v-4h2v4z\"/>\n",
              "    </g>\n",
              "</svg>\n",
              "      </button>\n",
              "\n",
              "<style>\n",
              "  .colab-df-quickchart {\n",
              "      --bg-color: #E8F0FE;\n",
              "      --fill-color: #1967D2;\n",
              "      --hover-bg-color: #E2EBFA;\n",
              "      --hover-fill-color: #174EA6;\n",
              "      --disabled-fill-color: #AAA;\n",
              "      --disabled-bg-color: #DDD;\n",
              "  }\n",
              "\n",
              "  [theme=dark] .colab-df-quickchart {\n",
              "      --bg-color: #3B4455;\n",
              "      --fill-color: #D2E3FC;\n",
              "      --hover-bg-color: #434B5C;\n",
              "      --hover-fill-color: #FFFFFF;\n",
              "      --disabled-bg-color: #3B4455;\n",
              "      --disabled-fill-color: #666;\n",
              "  }\n",
              "\n",
              "  .colab-df-quickchart {\n",
              "    background-color: var(--bg-color);\n",
              "    border: none;\n",
              "    border-radius: 50%;\n",
              "    cursor: pointer;\n",
              "    display: none;\n",
              "    fill: var(--fill-color);\n",
              "    height: 32px;\n",
              "    padding: 0;\n",
              "    width: 32px;\n",
              "  }\n",
              "\n",
              "  .colab-df-quickchart:hover {\n",
              "    background-color: var(--hover-bg-color);\n",
              "    box-shadow: 0 1px 2px rgba(60, 64, 67, 0.3), 0 1px 3px 1px rgba(60, 64, 67, 0.15);\n",
              "    fill: var(--button-hover-fill-color);\n",
              "  }\n",
              "\n",
              "  .colab-df-quickchart-complete:disabled,\n",
              "  .colab-df-quickchart-complete:disabled:hover {\n",
              "    background-color: var(--disabled-bg-color);\n",
              "    fill: var(--disabled-fill-color);\n",
              "    box-shadow: none;\n",
              "  }\n",
              "\n",
              "  .colab-df-spinner {\n",
              "    border: 2px solid var(--fill-color);\n",
              "    border-color: transparent;\n",
              "    border-bottom-color: var(--fill-color);\n",
              "    animation:\n",
              "      spin 1s steps(1) infinite;\n",
              "  }\n",
              "\n",
              "  @keyframes spin {\n",
              "    0% {\n",
              "      border-color: transparent;\n",
              "      border-bottom-color: var(--fill-color);\n",
              "      border-left-color: var(--fill-color);\n",
              "    }\n",
              "    20% {\n",
              "      border-color: transparent;\n",
              "      border-left-color: var(--fill-color);\n",
              "      border-top-color: var(--fill-color);\n",
              "    }\n",
              "    30% {\n",
              "      border-color: transparent;\n",
              "      border-left-color: var(--fill-color);\n",
              "      border-top-color: var(--fill-color);\n",
              "      border-right-color: var(--fill-color);\n",
              "    }\n",
              "    40% {\n",
              "      border-color: transparent;\n",
              "      border-right-color: var(--fill-color);\n",
              "      border-top-color: var(--fill-color);\n",
              "    }\n",
              "    60% {\n",
              "      border-color: transparent;\n",
              "      border-right-color: var(--fill-color);\n",
              "    }\n",
              "    80% {\n",
              "      border-color: transparent;\n",
              "      border-right-color: var(--fill-color);\n",
              "      border-bottom-color: var(--fill-color);\n",
              "    }\n",
              "    90% {\n",
              "      border-color: transparent;\n",
              "      border-bottom-color: var(--fill-color);\n",
              "    }\n",
              "  }\n",
              "</style>\n",
              "\n",
              "      <script>\n",
              "        async function quickchart(key) {\n",
              "          const quickchartButtonEl =\n",
              "            document.querySelector('#' + key + ' button');\n",
              "          quickchartButtonEl.disabled = true;  // To prevent multiple clicks.\n",
              "          quickchartButtonEl.classList.add('colab-df-spinner');\n",
              "          try {\n",
              "            const charts = await google.colab.kernel.invokeFunction(\n",
              "                'suggestCharts', [key], {});\n",
              "          } catch (error) {\n",
              "            console.error('Error during call to suggestCharts:', error);\n",
              "          }\n",
              "          quickchartButtonEl.classList.remove('colab-df-spinner');\n",
              "          quickchartButtonEl.classList.add('colab-df-quickchart-complete');\n",
              "        }\n",
              "        (() => {\n",
              "          let quickchartButtonEl =\n",
              "            document.querySelector('#df-aee1e6e9-5c03-4d69-9bdd-e9e8931652d6 button');\n",
              "          quickchartButtonEl.style.display =\n",
              "            google.colab.kernel.accessAllowed ? 'block' : 'none';\n",
              "        })();\n",
              "      </script>\n",
              "    </div>\n",
              "\n",
              "    </div>\n",
              "  </div>\n"
            ],
            "application/vnd.google.colaboratory.intrinsic+json": {
              "type": "dataframe",
              "variable_name": "data_frame",
              "summary": "{\n  \"name\": \"data_frame\",\n  \"rows\": 458,\n  \"fields\": [\n    {\n      \"column\": \"path\",\n      \"properties\": {\n        \"dtype\": \"string\",\n        \"num_unique_values\": 458,\n        \"samples\": [\n          \"/content/drive/MyDrive/MPDD/MPDD_classification/metal_plate/scratches/004.png\",\n          \"/content/drive/MyDrive/MPDD/MPDD_classification/bracket_black/hole/007.png\",\n          \"/content/drive/MyDrive/MPDD/MPDD_classification/metal_plate/total_rust/007.png\"\n        ],\n        \"semantic_type\": \"\",\n        \"description\": \"\"\n      }\n    },\n    {\n      \"column\": \"caption\",\n      \"properties\": {\n        \"dtype\": \"category\",\n        \"num_unique_values\": 17,\n        \"samples\": [\n          \"A good black bracket\",\n          \"A black bracket with hole\",\n          \"A brown bracket with parts mismatch\"\n        ],\n        \"semantic_type\": \"\",\n        \"description\": \"\"\n      }\n    }\n  ]\n}"
            }
          },
          "metadata": {},
          "execution_count": 2
        }
      ],
      "source": [
        "data_path =\"/content/drive/MyDrive/MPDD/\"\n",
        "\n",
        "data_frame = pd.read_csv(os.path.join(data_path, \"caption2.csv\"))\n",
        "\n",
        "data_frame[\"path\"] = data_frame[\"path\"].apply(\n",
        "    lambda x: os.path.join(data_path, x)\n",
        ")\n",
        "\n",
        "print(data_frame.shape)\n",
        "\n",
        "data_frame.head()"
      ]
    },
    {
      "cell_type": "code",
      "execution_count": null,
      "metadata": {
        "id": "a8hWCrO5tdVn"
      },
      "outputs": [],
      "source": [
        "# The padding token and maximum prompt length are specific to the text encoder.\n",
        "# If you're using a different text encoder be sure to change them accordingly.\n",
        "PADDING_TOKEN = 49407\n",
        "MAX_PROMPT_LENGTH = 77\n",
        "\n",
        "# Load the tokenizer.\n",
        "tokenizer = SimpleTokenizer()\n",
        "\n",
        "#  Method to tokenize and pad the tokens.\n",
        "def process_text(caption):\n",
        "    tokens = tokenizer.encode(caption)\n",
        "    tokens = tokens + [PADDING_TOKEN] * (MAX_PROMPT_LENGTH - len(tokens))\n",
        "    return np.array(tokens)\n",
        "\n",
        "\n",
        "# Collate the tokenized captions into an array.\n",
        "tokenized_texts = np.empty((len(data_frame), MAX_PROMPT_LENGTH))\n",
        "\n",
        "all_captions = list(data_frame[\"caption\"].values)\n",
        "for i, caption in enumerate(all_captions):\n",
        "    tokenized_texts[i] = process_text(caption)"
      ]
    },
    {
      "cell_type": "markdown",
      "metadata": {
        "id": "f8dQkW5YtdVo"
      },
      "source": [
        "## Prepare a `tf.data.Dataset`\n",
        "\n",
        "In this section, we'll prepare a `tf.data.Dataset` object from the input image file paths\n",
        "and their corresponding caption tokens. The section will include the following:\n",
        "\n",
        "* Pre-computation of the text embeddings from the tokenized captions.\n",
        "* Loading and augmentation of the input images.\n",
        "* Shuffling and batching of the dataset."
      ]
    },
    {
      "cell_type": "code",
      "source": [
        "import cv2\n",
        "\n",
        "cv2.imread(\"/content/drive/MyDrive/MPDD/MPDD_classification/bracket_black/good/000.png\")"
      ],
      "metadata": {
        "colab": {
          "base_uri": "https://localhost:8080/"
        },
        "id": "jIPH-kTOUJa3",
        "outputId": "b16afefd-9a7b-438d-cfc3-abd5da40350d"
      },
      "execution_count": null,
      "outputs": [
        {
          "output_type": "execute_result",
          "data": {
            "text/plain": [
              "array([[[ 67, 207, 160],\n",
              "        [ 67, 207, 160],\n",
              "        [ 67, 208, 160],\n",
              "        ...,\n",
              "        [ 25, 169, 115],\n",
              "        [ 24, 169, 114],\n",
              "        [ 24, 168, 114]],\n",
              "\n",
              "       [[ 65, 206, 159],\n",
              "        [ 62, 204, 157],\n",
              "        [ 64, 206, 158],\n",
              "        ...,\n",
              "        [ 24, 168, 114],\n",
              "        [ 26, 171, 116],\n",
              "        [ 27, 171, 118]],\n",
              "\n",
              "       [[ 62, 204, 157],\n",
              "        [ 62, 204, 157],\n",
              "        [ 63, 206, 158],\n",
              "        ...,\n",
              "        [ 24, 169, 114],\n",
              "        [ 26, 170, 115],\n",
              "        [ 26, 170, 116]],\n",
              "\n",
              "       ...,\n",
              "\n",
              "       [[ 14, 153, 102],\n",
              "        [ 15, 154, 103],\n",
              "        [ 12, 151, 100],\n",
              "        ...,\n",
              "        [  0, 118,  77],\n",
              "        [  0, 117,  77],\n",
              "        [  0, 117,  77]],\n",
              "\n",
              "       [[ 14, 153, 102],\n",
              "        [ 14, 153, 102],\n",
              "        [ 10, 149,  98],\n",
              "        ...,\n",
              "        [  0, 118,  78],\n",
              "        [  0, 116,  76],\n",
              "        [  0, 115,  75]],\n",
              "\n",
              "       [[ 12, 151, 100],\n",
              "        [ 13, 152, 101],\n",
              "        [ 11, 150,  99],\n",
              "        ...,\n",
              "        [  0, 117,  77],\n",
              "        [  0, 115,  75],\n",
              "        [  0, 114,  74]]], dtype=uint8)"
            ]
          },
          "metadata": {},
          "execution_count": 4
        }
      ]
    },
    {
      "cell_type": "code",
      "execution_count": null,
      "metadata": {
        "id": "zG6O1KactdVo"
      },
      "outputs": [],
      "source": [
        "RESOLUTION = 64\n",
        "AUTO = tf.data.AUTOTUNE\n",
        "POS_IDS = tf.convert_to_tensor([list(range(MAX_PROMPT_LENGTH))], dtype=tf.int32)\n",
        "\n",
        "augmenter = keras.Sequential(\n",
        "    layers=[\n",
        "        keras_cv.layers.CenterCrop(RESOLUTION, RESOLUTION),\n",
        "        #tf.keras.layers.CenterCrop(RESOLUTION, RESOLUTION),\n",
        "        keras_cv.layers.RandomFlip(),\n",
        "        tf.keras.layers.Rescaling(scale=1.0 / 127.5, offset=-1),\n",
        "    ]\n",
        ")\n",
        "text_encoder = TextEncoder(MAX_PROMPT_LENGTH)\n",
        "\n",
        "\n",
        "def process_image(image_path, tokenized_text):\n",
        "    #image= cv2.imread(image_path)\n",
        "    image = tf.io.read_file(image_path)\n",
        "    image = tf.io.decode_png(image, 3)\n",
        "    image = tf.image.resize(image, (RESOLUTION, RESOLUTION))\n",
        "    return image, tokenized_text\n",
        "\n",
        "\n",
        "def apply_augmentation(image_batch, token_batch):\n",
        "    return augmenter(image_batch), token_batch\n",
        "\n",
        "\n",
        "def run_text_encoder(image_batch, token_batch):\n",
        "    return (\n",
        "        image_batch,\n",
        "        token_batch,\n",
        "        text_encoder([token_batch, POS_IDS], training=False),\n",
        "    )\n",
        "\n",
        "\n",
        "def prepare_dict(image_batch, token_batch, encoded_text_batch):\n",
        "    return {\n",
        "        \"images\": image_batch,\n",
        "        \"tokens\": token_batch,\n",
        "        \"encoded_text\": encoded_text_batch,\n",
        "    }\n",
        "\n",
        "\n",
        "def prepare_dataset(image_paths, tokenized_texts, batch_size=1):\n",
        "    dataset = tf.data.Dataset.from_tensor_slices((image_paths, tokenized_texts))\n",
        "    dataset = dataset.shuffle(batch_size * 10)\n",
        "    dataset = dataset.map(process_image, num_parallel_calls=AUTO).batch(batch_size)\n",
        "    dataset = dataset.map(apply_augmentation, num_parallel_calls=AUTO)\n",
        "    dataset = dataset.map(run_text_encoder, num_parallel_calls=AUTO)\n",
        "    dataset = dataset.map(prepare_dict, num_parallel_calls=AUTO)\n",
        "    return dataset.prefetch(AUTO)\n"
      ]
    },
    {
      "cell_type": "markdown",
      "metadata": {
        "id": "Bj5EjthWtdVp"
      },
      "source": [
        "The baseline Stable Diffusion model was trained using images with 512x512 resolution. It's\n",
        "unlikely for a model that's trained using higher-resolution images to transfer well to\n",
        "lower-resolution images. However, the current model will lead to OOM if we keep the\n",
        "resolution to 512x512 (without enabling mixed-precision). Therefore, in the interest of\n",
        "interactive demonstrations, we kept the input resolution to 256x256."
      ]
    },
    {
      "cell_type": "code",
      "execution_count": null,
      "metadata": {
        "id": "lwdNbTIAtdVp",
        "colab": {
          "base_uri": "https://localhost:8080/"
        },
        "outputId": "4d5cca55-eee0-48f9-85c3-0648553c374a"
      },
      "outputs": [
        {
          "output_type": "stream",
          "name": "stdout",
          "text": [
            "images (4, 64, 64, 3)\n",
            "tokens (4, 77)\n",
            "encoded_text (4, 77, 768)\n"
          ]
        }
      ],
      "source": [
        "# Prepare the dataset.\n",
        "training_dataset = prepare_dataset(\n",
        "    np.array(data_frame[\"path\"]), tokenized_texts, batch_size=4\n",
        ")\n",
        "\n",
        "# Take a sample batch and investigate.\n",
        "sample_batch = next(iter(training_dataset))\n",
        "\n",
        "for k in sample_batch:\n",
        "    print(k, sample_batch[k].shape)\n",
        "\n"
      ]
    },
    {
      "cell_type": "markdown",
      "metadata": {
        "id": "8ihxroeetdVq"
      },
      "source": [
        "We can also take a look at the training images and their corresponding captions."
      ]
    },
    {
      "cell_type": "code",
      "execution_count": null,
      "metadata": {
        "id": "Z1jlKPNhtdVq",
        "colab": {
          "base_uri": "https://localhost:8080/",
          "height": 275
        },
        "outputId": "94a12a65-8f45-466b-ba6e-0bdbe06c9f75"
      },
      "outputs": [
        {
          "output_type": "display_data",
          "data": {
            "text/plain": [
              "<Figure size 2000x1000 with 3 Axes>"
            ],
            "image/png": "[encoded data removed]"
          },
          "metadata": {}
        }
      ],
      "source": [
        "plt.figure(figsize=(20, 10))\n",
        "\n",
        "for i in range(3):\n",
        "    ax = plt.subplot(1, 4, i + 1)\n",
        "    plt.imshow((sample_batch[\"images\"][i] + 1) / 2)\n",
        "\n",
        "    text = tokenizer.decode(sample_batch[\"tokens\"][i].numpy().squeeze())\n",
        "    text = text.replace(\"<|startoftext|>\", \"\")\n",
        "    text = text.replace(\"<|endoftext|>\", \"\")\n",
        "    text = \"\\n\".join(wrap(text, 20))\n",
        "    plt.title(text, fontsize=10)\n",
        "\n",
        "    plt.axis(\"off\")"
      ]
    },
    {
      "cell_type": "markdown",
      "metadata": {
        "id": "EmpB0wpFtdVq"
      },
      "source": [
        "## A trainer class for the fine-tuning loop"
      ]
    },
    {
      "cell_type": "code",
      "execution_count": null,
      "metadata": {
        "id": "1k5L6DjhtdVq"
      },
      "outputs": [],
      "source": [
        "\n",
        "class Trainer(tf.keras.Model):\n",
        "    # Reference:\n",
        "    # https://github.com/huggingface/diffusers/blob/main/examples/text_to_image/train_text_to_image.py\n",
        "\n",
        "    def __init__(\n",
        "        self,\n",
        "        diffusion_model,\n",
        "        vae,\n",
        "        noise_scheduler,\n",
        "        use_mixed_precision=False,\n",
        "        max_grad_norm=1.0,\n",
        "        **kwargs\n",
        "    ):\n",
        "        super().__init__(**kwargs)\n",
        "\n",
        "        self.diffusion_model = diffusion_model\n",
        "        self.vae = vae\n",
        "        self.noise_scheduler = noise_scheduler\n",
        "        self.max_grad_norm = max_grad_norm\n",
        "\n",
        "        self.use_mixed_precision = use_mixed_precision\n",
        "        self.vae.trainable = False\n",
        "\n",
        "    def train_step(self, inputs):\n",
        "\n",
        "        images = inputs[\"images\"]\n",
        "        print(\"images shape:\",images.shape)\n",
        "\n",
        "\n",
        "        encoded_text = inputs[\"encoded_text\"]\n",
        "        print(\"encoded_text shape:\",encoded_text.shape)\n",
        "\n",
        "        batch_size = tf.shape(images)[0]\n",
        "\n",
        "        with tf.GradientTape() as tape:\n",
        "            # Project image into the latent space and sample from it.\n",
        "            latents = self.sample_from_encoder_outputs(self.vae(images, training=True))\n",
        "            print(\"latents shape:\", latents.shape)\n",
        "\n",
        "\n",
        "            # Know more about the magic number here:\n",
        "            # https://keras.io/examples/generative/fine_tune_via_textual_inversion/\n",
        "            latents = latents * 0.18215\n",
        "\n",
        "            # Sample noise that we'll add to the latents.\n",
        "            noise = tf.random.normal(tf.shape(latents))\n",
        "            print(\"noise shape:\", noise.shape)\n",
        "\n",
        "            # Sample a random timestep for each image.\n",
        "            timesteps = tnp.random.randint(\n",
        "                0, self.noise_scheduler.train_timesteps, (batch_size,)\n",
        "            )\n",
        "\n",
        "            # Add noise to the latents according to the noise magnitude at each timestep\n",
        "            # (this is the forward diffusion process).\n",
        "            noisy_latents = self.noise_scheduler.add_noise(\n",
        "                tf.cast(latents, noise.dtype), noise, timesteps\n",
        "            )\n",
        "            print(\"noisy_latents shape:\", noisy_latents.shape)\n",
        "\n",
        "            # Get the target for loss depending on the prediction type\n",
        "            # just the sampled noise for now.\n",
        "            target = noise  # noise_schedule.predict_epsilon == True\n",
        "\n",
        "            # Predict the noise residual and compute loss.\n",
        "            timestep_embedding = tf.map_fn(\n",
        "                lambda t: self.get_timestep_embedding(t), timesteps, dtype=tf.float32\n",
        "            )\n",
        "            timestep_embedding = tf.squeeze(timestep_embedding, 1)\n",
        "            model_pred = self.diffusion_model(\n",
        "                [noisy_latents, timestep_embedding, encoded_text], training=True\n",
        "            )\n",
        "            loss = self.compiled_loss(target, model_pred)\n",
        "\n",
        "            if self.use_mixed_precision:\n",
        "                loss = self.optimizer.get_scaled_loss(loss)\n",
        "\n",
        "        # Update parameters of the diffusion model.\n",
        "        trainable_vars = self.diffusion_model.trainable_variables\n",
        "        gradients = tape.gradient(loss, trainable_vars)\n",
        "        if self.use_mixed_precision:\n",
        "            gradients = self.optimizer.get_unscaled_gradients(gradients)\n",
        "        gradients = [tf.clip_by_norm(g, self.max_grad_norm) for g in gradients]\n",
        "        self.optimizer.apply_gradients(zip(gradients, trainable_vars))\n",
        "\n",
        "        return {m.name: m.result() for m in self.metrics}\n",
        "\n",
        "    def get_timestep_embedding(self, timestep, dim=320, max_period=10000):\n",
        "        half = dim // 2\n",
        "        log_max_period = tf.math.log(tf.cast(max_period, tf.float32))\n",
        "        freqs = tf.math.exp(\n",
        "            -log_max_period * tf.range(0, half, dtype=tf.float32) / half\n",
        "        )\n",
        "        args = tf.convert_to_tensor([timestep], dtype=tf.float32) * freqs\n",
        "        embedding = tf.concat([tf.math.cos(args), tf.math.sin(args)], 0)\n",
        "        embedding = tf.reshape(embedding, [1, -1])\n",
        "        return embedding\n",
        "\n",
        "    def sample_from_encoder_outputs(self, outputs):\n",
        "        mean, logvar = tf.split(outputs, 2, axis=-1)\n",
        "        logvar = tf.clip_by_value(logvar, -30.0, 20.0)\n",
        "        std = tf.exp(0.5 * logvar)\n",
        "        sample = tf.random.normal(tf.shape(mean), dtype=mean.dtype)\n",
        "        return mean + std * sample\n",
        "\n",
        "    def save_weights(self, filepath, overwrite=True, save_format=None, options=None):\n",
        "        # Overriding this method will allow us to use the `ModelCheckpoint`\n",
        "        # callback directly with this trainer class. In this case, it will\n",
        "        # only checkpoint the `diffusion_model` since that's what we're training\n",
        "        # during fine-tuning.\n",
        "        self.diffusion_model.save_weights(\n",
        "            filepath=filepath,\n",
        "            overwrite=overwrite,\n",
        "            #save_format=save_format,\n",
        "            #options=options,\n",
        "        )\n"
      ]
    },
    {
      "cell_type": "markdown",
      "metadata": {
        "id": "Se2baTbztdVs"
      },
      "source": [
        "One important implementation detail to note here: Instead of directly taking\n",
        "the latent vector produced by the image encoder (which is a VAE), we sample from the\n",
        "mean and log-variance predicted by it. This way, we can achieve better sample\n",
        "quality and diversity.\n",
        "\n",
        "It's common to add support for mixed-precision training along with exponential\n",
        "moving averaging of model weights for fine-tuning these models. However, in the interest\n",
        "of brevity, we discard those elements. More on this later in the tutorial."
      ]
    },
    {
      "cell_type": "markdown",
      "metadata": {
        "id": "bflV8sE6tdVs"
      },
      "source": [
        "## Initialize the trainer and compile it"
      ]
    },
    {
      "cell_type": "code",
      "execution_count": null,
      "metadata": {
        "id": "pirVFjBstdVs",
        "colab": {
          "base_uri": "https://localhost:8080/"
        },
        "outputId": "7a693f7c-50fb-4539-94ea-5e2f00b1a0d7"
      },
      "outputs": [
        {
          "output_type": "stream",
          "name": "stderr",
          "text": [
            "WARNING:tensorflow:Mixed precision compatibility check (mixed_float16): WARNING\n",
            "The dtype policy mixed_float16 may run slowly because this machine does not have a GPU. Only Nvidia GPUs with compute capability of at least 7.0 run quickly with mixed_float16.\n",
            "If you will use compatible GPU(s) not attached to this host, e.g. by running a multi-worker model, you can ignore this warning. This message will only be logged once\n"
          ]
        }
      ],
      "source": [
        "# Enable mixed-precision training if the underlying GPU has tensor cores.\n",
        "USE_MP = True\n",
        "if USE_MP:\n",
        "    keras.mixed_precision.set_global_policy(\"mixed_float16\")\n",
        "\n",
        "image_encoder = ImageEncoder()\n",
        "diffusion_ft_trainer = Trainer(\n",
        "    diffusion_model=DiffusionModel(RESOLUTION, RESOLUTION, MAX_PROMPT_LENGTH),\n",
        "    # Remove the top layer from the encoder, which cuts off the variance and only\n",
        "    # returns the mean.\n",
        "\n",
        "    vae=tf.keras.Model(\n",
        "        image_encoder.input,\n",
        "        image_encoder.layers[-2].output,\n",
        "    ),\n",
        "\n",
        "\n",
        "    noise_scheduler=NoiseScheduler(),\n",
        "    use_mixed_precision=USE_MP,\n",
        ")\n",
        "\n",
        "# These hyperparameters come from this tutorial by Hugging Face:\n",
        "# https://huggingface.co/docs/diffusers/training/text2image\n",
        "lr = 1e-5\n",
        "beta_1, beta_2 = 0.9, 0.999\n",
        "weight_decay = (1e-2,)\n",
        "epsilon = 1e-08\n",
        "\n",
        "optimizer = tf.keras.optimizers.AdamW(\n",
        "    learning_rate=lr,\n",
        "    weight_decay=weight_decay,\n",
        "    beta_1=beta_1,\n",
        "    beta_2=beta_2,\n",
        "    epsilon=epsilon,\n",
        ")\n",
        "diffusion_ft_trainer.compile(optimizer=optimizer, loss=\"mse\")"
      ]
    },
    {
      "cell_type": "markdown",
      "metadata": {
        "id": "OhqYNjLFtdVs"
      },
      "source": [
        "## Fine-tuning\n",
        "\n",
        "To keep the runtime of this tutorial short, we just fine-tune for an epoch."
      ]
    },
    {
      "cell_type": "code",
      "source": [
        "import torch\n",
        "torch.cuda.is_available()"
      ],
      "metadata": {
        "colab": {
          "base_uri": "https://localhost:8080/"
        },
        "id": "pnVN89_isg3f",
        "outputId": "0eac98df-84bd-4012-f571-873138f97bdb"
      },
      "execution_count": null,
      "outputs": [
        {
          "output_type": "execute_result",
          "data": {
            "text/plain": [
              "True"
            ]
          },
          "metadata": {},
          "execution_count": 10
        }
      ]
    },
    {
      "cell_type": "code",
      "execution_count": null,
      "metadata": {
        "id": "bxPjkhF7tdVt",
        "colab": {
          "base_uri": "https://localhost:8080/"
        },
        "outputId": "81063033-3c20-4b03-938a-e87738ee58ad"
      },
      "outputs": [
        {
          "output_type": "stream",
          "name": "stdout",
          "text": [
            "Epoch 1/10\n",
            "images shape: (None, 64, 64, 3)\n",
            "encoded_text shape: (None, 77, 768)\n"
          ]
        },
        {
          "output_type": "stream",
          "name": "stderr",
          "text": [
            "WARNING:tensorflow:From /usr/local/lib/python3.11/dist-packages/tensorflow/python/util/deprecation.py:660: calling map_fn_v2 (from tensorflow.python.ops.map_fn) with dtype is deprecated and will be removed in a future version.\n",
            "Instructions for updating:\n",
            "Use fn_output_signature instead\n"
          ]
        },
        {
          "output_type": "stream",
          "name": "stdout",
          "text": [
            "latents shape: (None, 8, 8, 4)\n",
            "noise shape: (None, 8, 8, 4)\n",
            "noisy_latents shape: (None, 8, 8, 4)\n",
            "images shape: (None, 64, 64, 3)\n",
            "encoded_text shape: (None, 77, 768)\n",
            "latents shape: (None, 8, 8, 4)\n",
            "noise shape: (None, 8, 8, 4)\n",
            "noisy_latents shape: (None, 8, 8, 4)\n",
            "  9/115 [=>............................] - ETA: 1:50:43 - loss: 0.1847"
          ]
        }
      ],
      "source": [
        "epochs = 10\n",
        "ckpt_path = \"finetuned_stable_diffusion.weights.h5\"\n",
        "ckpt_callback = tf.keras.callbacks.ModelCheckpoint(\n",
        "    ckpt_path,\n",
        "    save_weights_only=True,\n",
        "    monitor=\"loss\",\n",
        "    mode=\"min\",\n",
        ")\n",
        "history = diffusion_ft_trainer.fit(training_dataset, epochs=epochs, callbacks=[ckpt_callback])"
      ]
    },
    {
      "cell_type": "code",
      "source": [
        "import keras\n",
        "from matplotlib import pyplot as plt\n",
        "\n",
        "#plt.plot(history.history['accuracy'])\n",
        "plt.plot(history.history['loss'])\n",
        "plt.title('model loss')\n",
        "plt.ylabel('loss')\n",
        "plt.xlabel('epoch')\n",
        "plt.legend(['train'], loc='upper left')\n",
        "plt.show()\n"
      ],
      "metadata": {
        "id": "Ksq4HENffc7a"
      },
      "execution_count": null,
      "outputs": []
    },
    {
      "cell_type": "code",
      "execution_count": null,
      "metadata": {
        "id": "5gRSJMa5tdVt"
      },
      "outputs": [],
      "source": [
        "\n",
        "img_height = img_width = 64\n",
        "\n",
        "model = keras_cv.models.StableDiffusion(\n",
        "    img_width=img_width, img_height=img_height\n",
        ")\n",
        "\n",
        "model.diffusion_model.load_weights(\"finetuned_stable_diffusion.weights.h5\")"
      ]
    },
    {
      "cell_type": "code",
      "execution_count": null,
      "metadata": {
        "id": "VuKtaf82tdVt"
      },
      "outputs": [],
      "source": [
        "prompts = [\"A black bracket\", \"A white bracket with rust\", \"A meta tube with dent\"]\n",
        "\n",
        "images_to_generate = 3\n",
        "outputs = {}\n",
        "\n",
        "for prompt in prompts:\n",
        "    generated_images = model.text_to_image(\n",
        "        prompt, batch_size=images_to_generate, unconditional_guidance_scale=40\n",
        "    )\n",
        "    outputs.update({prompt: generated_images})"
      ]
    },
    {
      "cell_type": "code",
      "source": [
        "\n",
        "def plot_images(images, title):\n",
        "    plt.figure(figsize=(50, 50))\n",
        "    for i in range(len(images)):\n",
        "        ax = plt.subplot(1, len(images), i + 1)\n",
        "        plt.imshow(images[i])\n",
        "        plt.title(title, fontsize=12)\n",
        "        plt.axis(\"off\")\n",
        "\n",
        "\n",
        "for prompt in outputs:\n",
        "    plot_images(outputs[prompt], prompt)"
      ],
      "metadata": {
        "id": "qR0Rp0GGA9YX"
      },
      "execution_count": null,
      "outputs": []
    },
    {
      "cell_type": "code",
      "source": [
        "plt.imshow(outputs[prompt][2])\n",
        "plt.savefig('/content/drive/MyDrive/DR_generated_images/image_grade_3_2.png')"
      ],
      "metadata": {
        "id": "EWf50G1MvdMX"
      },
      "execution_count": null,
      "outputs": []
    },
    {
      "cell_type": "code",
      "source": [],
      "metadata": {
        "id": "68DA_N-6vdIz"
      },
      "execution_count": null,
      "outputs": []
    },
    {
      "cell_type": "code",
      "source": [],
      "metadata": {
        "id": "mFzCi7nfvdEU"
      },
      "execution_count": null,
      "outputs": []
    },
    {
      "cell_type": "code",
      "execution_count": null,
      "metadata": {
        "id": "4Rzms747tdVu"
      },
      "outputs": [],
      "source": [
        "### epoch 1.\n",
        "\n",
        "def plot_images(images, title):\n",
        "    plt.figure(figsize=(20, 20))\n",
        "    for i in range(len(images)):\n",
        "        ax = plt.subplot(1, len(images), i + 1)\n",
        "        plt.imshow(images[i])\n",
        "        plt.title(title, fontsize=12)\n",
        "        plt.axis(\"off\")\n",
        "\n",
        "\n",
        "for prompt in outputs:\n",
        "    plot_images(outputs[prompt], prompt)"
      ]
    },
    {
      "cell_type": "code",
      "source": [
        "# example of calculating the frechet inception distance in Keras for cifar10\n",
        "import numpy\n",
        "from numpy import cov\n",
        "from numpy import trace\n",
        "from numpy import iscomplexobj\n",
        "from numpy import asarray\n",
        "from numpy.random import shuffle\n",
        "from scipy.linalg import sqrtm\n",
        "from keras.applications.inception_v3 import InceptionV3\n",
        "from keras.applications.inception_v3 import preprocess_input\n",
        "from keras.datasets.mnist import load_data\n",
        "from skimage.transform import resize\n",
        "from keras.datasets import cifar10\n",
        "\n",
        "# scale an array of images to a new size\n",
        "def scale_images(images, new_shape):\n",
        "\timages_list = list()\n",
        "\tfor image in images:\n",
        "\t\t# resize with nearest neighbor interpolation\n",
        "\t\tnew_image = resize(image, new_shape, 0)\n",
        "\t\t# store\n",
        "\t\timages_list.append(new_image)\n",
        "\treturn asarray(images_list)\n",
        "\n",
        "# calculate frechet inception distance\n",
        "def calculate_fid(model, images1, images2):\n",
        "\t# calculate activations\n",
        "\tact1 = model.predict(images1)\n",
        "\tact2 = model.predict(images2)\n",
        "\t# calculate mean and covariance statistics\n",
        "\tmu1, sigma1 = act1.mean(axis=0), cov(act1, rowvar=False)\n",
        "\tmu2, sigma2 = act2.mean(axis=0), cov(act2, rowvar=False)\n",
        "\t# calculate sum squared difference between means\n",
        "\tssdiff = numpy.sum((mu1 - mu2)**2.0)\n",
        "\t# calculate sqrt of product between cov\n",
        "\tcovmean = sqrtm(sigma1.dot(sigma2))\n",
        "\t# check and correct imaginary numbers from sqrt\n",
        "\tif iscomplexobj(covmean):\n",
        "\t\tcovmean = covmean.real\n",
        "\t# calculate score\n",
        "\tfid = ssdiff + trace(sigma1 + sigma2 - 2.0 * covmean)\n",
        "\treturn fid\n",
        "\n",
        "# prepare the inception v3 model\n",
        "fid_model = InceptionV3(include_top=False, pooling='avg', input_shape=(299,299,3))\n"
      ],
      "metadata": {
        "id": "2hA-A7TQqeaL"
      },
      "execution_count": null,
      "outputs": []
    },
    {
      "cell_type": "code",
      "source": [
        "\n",
        "image1 = outputs[prompt][1]\n",
        "image2 = outputs[prompt][2]\n",
        "\n",
        "# convert integer to floating point values\n",
        "images1 = image1.astype('float32')\n",
        "images2 = image2.astype('float32')\n",
        "\n",
        "# resize images\n",
        "images1 = scale_images(images1, (299,299,3))\n",
        "images2 = scale_images(images2, (299,299,3))\n",
        "print('Scaled', images1.shape, images2.shape)\n",
        "\n",
        "# pre-process images\n",
        "images1 = preprocess_input(images1)\n",
        "images2 = preprocess_input(images2)\n",
        "\n",
        "# calculate fid\n",
        "fid = calculate_fid(fid_model, images1, images2)\n",
        "print('FID: %.3f' % fid)"
      ],
      "metadata": {
        "id": "jJKh1Xul0NXG"
      },
      "execution_count": null,
      "outputs": []
    },
    {
      "cell_type": "code",
      "source": [
        "######################"
      ],
      "metadata": {
        "id": "cyH3WNA89yeB"
      },
      "execution_count": null,
      "outputs": []
    },
    {
      "cell_type": "code",
      "source": [],
      "metadata": {
        "id": "iBfoaYDj9yVQ"
      },
      "execution_count": null,
      "outputs": []
    }
  ],
  "metadata": {
    "colab": {
      "provenance": [],
      "include_colab_link": true
    },
    "kernelspec": {
      "display_name": "Python 3",
      "name": "python3"
    },
    "language_info": {
      "codemirror_mode": {
        "name": "ipython",
        "version": 3
      },
      "file_extension": ".py",
      "mimetype": "text/x-python",
      "name": "python",
      "nbconvert_exporter": "python",
      "pygments_lexer": "ipython3",
      "version": "3.7.0"
    }
  },
  "nbformat": 4,
  "nbformat_minor": 0
}